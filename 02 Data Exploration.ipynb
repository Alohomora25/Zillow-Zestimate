{
 "cells": [
  {
   "cell_type": "code",
   "execution_count": 1,
   "metadata": {},
   "outputs": [],
   "source": [
    "import pandas as pd\n",
    "import matplotlib.pyplot as plt\n",
    "%matplotlib inline"
   ]
  },
  {
   "cell_type": "code",
   "execution_count": 2,
   "metadata": {},
   "outputs": [],
   "source": [
    "df = pd.read_csv('derived_data/train_data_merged_2016.csv')"
   ]
  },
  {
   "cell_type": "code",
   "execution_count": 3,
   "metadata": {},
   "outputs": [
    {
     "data": {
      "text/html": [
       "<div>\n",
       "<style scoped>\n",
       "    .dataframe tbody tr th:only-of-type {\n",
       "        vertical-align: middle;\n",
       "    }\n",
       "\n",
       "    .dataframe tbody tr th {\n",
       "        vertical-align: top;\n",
       "    }\n",
       "\n",
       "    .dataframe thead th {\n",
       "        text-align: right;\n",
       "    }\n",
       "</style>\n",
       "<table border=\"1\" class=\"dataframe\">\n",
       "  <thead>\n",
       "    <tr style=\"text-align: right;\">\n",
       "      <th></th>\n",
       "      <th>parcelid</th>\n",
       "      <th>logerror</th>\n",
       "      <th>transactiondate</th>\n",
       "      <th>airconditioningtypeid</th>\n",
       "      <th>architecturalstyletypeid</th>\n",
       "      <th>basementsqft</th>\n",
       "      <th>bathroomcnt</th>\n",
       "      <th>bedroomcnt</th>\n",
       "      <th>buildingclasstypeid</th>\n",
       "      <th>buildingqualitytypeid</th>\n",
       "      <th>...</th>\n",
       "      <th>numberofstories</th>\n",
       "      <th>fireplaceflag</th>\n",
       "      <th>structuretaxvaluedollarcnt</th>\n",
       "      <th>taxvaluedollarcnt</th>\n",
       "      <th>assessmentyear</th>\n",
       "      <th>landtaxvaluedollarcnt</th>\n",
       "      <th>taxamount</th>\n",
       "      <th>taxdelinquencyflag</th>\n",
       "      <th>taxdelinquencyyear</th>\n",
       "      <th>censustractandblock</th>\n",
       "    </tr>\n",
       "  </thead>\n",
       "  <tbody>\n",
       "    <tr>\n",
       "      <th>0</th>\n",
       "      <td>11016594</td>\n",
       "      <td>0.0276</td>\n",
       "      <td>2016-01-01</td>\n",
       "      <td>1.0</td>\n",
       "      <td>NaN</td>\n",
       "      <td>NaN</td>\n",
       "      <td>2.0</td>\n",
       "      <td>3.0</td>\n",
       "      <td>NaN</td>\n",
       "      <td>4.0</td>\n",
       "      <td>...</td>\n",
       "      <td>NaN</td>\n",
       "      <td>NaN</td>\n",
       "      <td>122754.0</td>\n",
       "      <td>360170.0</td>\n",
       "      <td>2015.0</td>\n",
       "      <td>237416.0</td>\n",
       "      <td>6735.88</td>\n",
       "      <td>NaN</td>\n",
       "      <td>NaN</td>\n",
       "      <td>6.037107e+13</td>\n",
       "    </tr>\n",
       "    <tr>\n",
       "      <th>1</th>\n",
       "      <td>14366692</td>\n",
       "      <td>-0.1684</td>\n",
       "      <td>2016-01-01</td>\n",
       "      <td>NaN</td>\n",
       "      <td>NaN</td>\n",
       "      <td>NaN</td>\n",
       "      <td>3.5</td>\n",
       "      <td>4.0</td>\n",
       "      <td>NaN</td>\n",
       "      <td>NaN</td>\n",
       "      <td>...</td>\n",
       "      <td>NaN</td>\n",
       "      <td>NaN</td>\n",
       "      <td>346458.0</td>\n",
       "      <td>585529.0</td>\n",
       "      <td>2015.0</td>\n",
       "      <td>239071.0</td>\n",
       "      <td>10153.02</td>\n",
       "      <td>NaN</td>\n",
       "      <td>NaN</td>\n",
       "      <td>NaN</td>\n",
       "    </tr>\n",
       "    <tr>\n",
       "      <th>2</th>\n",
       "      <td>12098116</td>\n",
       "      <td>-0.0040</td>\n",
       "      <td>2016-01-01</td>\n",
       "      <td>1.0</td>\n",
       "      <td>NaN</td>\n",
       "      <td>NaN</td>\n",
       "      <td>3.0</td>\n",
       "      <td>2.0</td>\n",
       "      <td>NaN</td>\n",
       "      <td>4.0</td>\n",
       "      <td>...</td>\n",
       "      <td>NaN</td>\n",
       "      <td>NaN</td>\n",
       "      <td>61994.0</td>\n",
       "      <td>119906.0</td>\n",
       "      <td>2015.0</td>\n",
       "      <td>57912.0</td>\n",
       "      <td>11484.48</td>\n",
       "      <td>NaN</td>\n",
       "      <td>NaN</td>\n",
       "      <td>6.037464e+13</td>\n",
       "    </tr>\n",
       "    <tr>\n",
       "      <th>3</th>\n",
       "      <td>12643413</td>\n",
       "      <td>0.0218</td>\n",
       "      <td>2016-01-02</td>\n",
       "      <td>1.0</td>\n",
       "      <td>NaN</td>\n",
       "      <td>NaN</td>\n",
       "      <td>2.0</td>\n",
       "      <td>2.0</td>\n",
       "      <td>NaN</td>\n",
       "      <td>4.0</td>\n",
       "      <td>...</td>\n",
       "      <td>NaN</td>\n",
       "      <td>NaN</td>\n",
       "      <td>171518.0</td>\n",
       "      <td>244880.0</td>\n",
       "      <td>2015.0</td>\n",
       "      <td>73362.0</td>\n",
       "      <td>3048.74</td>\n",
       "      <td>NaN</td>\n",
       "      <td>NaN</td>\n",
       "      <td>6.037296e+13</td>\n",
       "    </tr>\n",
       "    <tr>\n",
       "      <th>4</th>\n",
       "      <td>14432541</td>\n",
       "      <td>-0.0050</td>\n",
       "      <td>2016-01-02</td>\n",
       "      <td>NaN</td>\n",
       "      <td>NaN</td>\n",
       "      <td>NaN</td>\n",
       "      <td>2.5</td>\n",
       "      <td>4.0</td>\n",
       "      <td>NaN</td>\n",
       "      <td>NaN</td>\n",
       "      <td>...</td>\n",
       "      <td>2.0</td>\n",
       "      <td>NaN</td>\n",
       "      <td>169574.0</td>\n",
       "      <td>434551.0</td>\n",
       "      <td>2015.0</td>\n",
       "      <td>264977.0</td>\n",
       "      <td>5488.96</td>\n",
       "      <td>NaN</td>\n",
       "      <td>NaN</td>\n",
       "      <td>6.059042e+13</td>\n",
       "    </tr>\n",
       "  </tbody>\n",
       "</table>\n",
       "<p>5 rows × 60 columns</p>\n",
       "</div>"
      ],
      "text/plain": [
       "   parcelid  logerror transactiondate  airconditioningtypeid  \\\n",
       "0  11016594    0.0276      2016-01-01                    1.0   \n",
       "1  14366692   -0.1684      2016-01-01                    NaN   \n",
       "2  12098116   -0.0040      2016-01-01                    1.0   \n",
       "3  12643413    0.0218      2016-01-02                    1.0   \n",
       "4  14432541   -0.0050      2016-01-02                    NaN   \n",
       "\n",
       "   architecturalstyletypeid  basementsqft  bathroomcnt  bedroomcnt  \\\n",
       "0                       NaN           NaN          2.0         3.0   \n",
       "1                       NaN           NaN          3.5         4.0   \n",
       "2                       NaN           NaN          3.0         2.0   \n",
       "3                       NaN           NaN          2.0         2.0   \n",
       "4                       NaN           NaN          2.5         4.0   \n",
       "\n",
       "   buildingclasstypeid  buildingqualitytypeid  ...  numberofstories  \\\n",
       "0                  NaN                    4.0  ...              NaN   \n",
       "1                  NaN                    NaN  ...              NaN   \n",
       "2                  NaN                    4.0  ...              NaN   \n",
       "3                  NaN                    4.0  ...              NaN   \n",
       "4                  NaN                    NaN  ...              2.0   \n",
       "\n",
       "   fireplaceflag  structuretaxvaluedollarcnt  taxvaluedollarcnt  \\\n",
       "0            NaN                    122754.0           360170.0   \n",
       "1            NaN                    346458.0           585529.0   \n",
       "2            NaN                     61994.0           119906.0   \n",
       "3            NaN                    171518.0           244880.0   \n",
       "4            NaN                    169574.0           434551.0   \n",
       "\n",
       "   assessmentyear  landtaxvaluedollarcnt  taxamount  taxdelinquencyflag  \\\n",
       "0          2015.0               237416.0    6735.88                 NaN   \n",
       "1          2015.0               239071.0   10153.02                 NaN   \n",
       "2          2015.0                57912.0   11484.48                 NaN   \n",
       "3          2015.0                73362.0    3048.74                 NaN   \n",
       "4          2015.0               264977.0    5488.96                 NaN   \n",
       "\n",
       "   taxdelinquencyyear  censustractandblock  \n",
       "0                 NaN         6.037107e+13  \n",
       "1                 NaN                  NaN  \n",
       "2                 NaN         6.037464e+13  \n",
       "3                 NaN         6.037296e+13  \n",
       "4                 NaN         6.059042e+13  \n",
       "\n",
       "[5 rows x 60 columns]"
      ]
     },
     "execution_count": 3,
     "metadata": {},
     "output_type": "execute_result"
    }
   ],
   "source": [
    "df.head()"
   ]
  },
  {
   "cell_type": "code",
   "execution_count": 4,
   "metadata": {},
   "outputs": [
    {
     "data": {
      "text/plain": [
       "(90275, 60)"
      ]
     },
     "execution_count": 4,
     "metadata": {},
     "output_type": "execute_result"
    }
   ],
   "source": [
    "df.shape"
   ]
  },
  {
   "cell_type": "markdown",
   "metadata": {},
   "source": [
    "# Check the Transaction Date Range¶\n"
   ]
  },
  {
   "cell_type": "code",
   "execution_count": 5,
   "metadata": {},
   "outputs": [
    {
     "data": {
      "text/plain": [
       "<matplotlib.axes._subplots.AxesSubplot at 0x1014abeb8>"
      ]
     },
     "execution_count": 5,
     "metadata": {},
     "output_type": "execute_result"
    },
    {
     "data": {
      "image/png": "[encoded data removed]",
      "text/plain": [
       "<Figure size 432x288 with 1 Axes>"
      ]
     },
     "metadata": {
      "needs_background": "light"
     },
     "output_type": "display_data"
    }
   ],
   "source": [
    "pd.to_datetime(df.transactiondate).hist()"
   ]
  },
  {
   "cell_type": "code",
   "execution_count": 6,
   "metadata": {},
   "outputs": [
    {
     "data": {
      "text/plain": [
       "Timestamp('2016-01-01 00:00:00')"
      ]
     },
     "execution_count": 6,
     "metadata": {},
     "output_type": "execute_result"
    }
   ],
   "source": [
    "pd.to_datetime(df.transactiondate).min()"
   ]
  },
  {
   "cell_type": "code",
   "execution_count": 7,
   "metadata": {},
   "outputs": [
    {
     "data": {
      "text/plain": [
       "Timestamp('2016-12-30 00:00:00')"
      ]
     },
     "execution_count": 7,
     "metadata": {},
     "output_type": "execute_result"
    }
   ],
   "source": [
    "pd.to_datetime(df.transactiondate).max()"
   ]
  },
  {
   "cell_type": "markdown",
   "metadata": {},
   "source": [
    "# Check for Duplicate Parcels"
   ]
  },
  {
   "cell_type": "code",
   "execution_count": 8,
   "metadata": {},
   "outputs": [
    {
     "data": {
      "text/plain": [
       "False"
      ]
     },
     "execution_count": 8,
     "metadata": {},
     "output_type": "execute_result"
    }
   ],
   "source": [
    "# is there one record per parcel? \n",
    "df.parcelid.nunique() == len(df)"
   ]
  },
  {
   "cell_type": "code",
   "execution_count": 9,
   "metadata": {},
   "outputs": [
    {
     "name": "stdout",
     "output_type": "stream",
     "text": [
      "124\n"
     ]
    },
    {
     "data": {
      "text/html": [
       "<div>\n",
       "<style scoped>\n",
       "    .dataframe tbody tr th:only-of-type {\n",
       "        vertical-align: middle;\n",
       "    }\n",
       "\n",
       "    .dataframe tbody tr th {\n",
       "        vertical-align: top;\n",
       "    }\n",
       "\n",
       "    .dataframe thead th {\n",
       "        text-align: right;\n",
       "    }\n",
       "</style>\n",
       "<table border=\"1\" class=\"dataframe\">\n",
       "  <thead>\n",
       "    <tr style=\"text-align: right;\">\n",
       "      <th></th>\n",
       "      <th>parcelid</th>\n",
       "      <th>logerror</th>\n",
       "      <th>transactiondate</th>\n",
       "      <th>airconditioningtypeid</th>\n",
       "      <th>architecturalstyletypeid</th>\n",
       "      <th>basementsqft</th>\n",
       "      <th>bathroomcnt</th>\n",
       "      <th>bedroomcnt</th>\n",
       "      <th>buildingclasstypeid</th>\n",
       "      <th>buildingqualitytypeid</th>\n",
       "      <th>...</th>\n",
       "      <th>numberofstories</th>\n",
       "      <th>fireplaceflag</th>\n",
       "      <th>structuretaxvaluedollarcnt</th>\n",
       "      <th>taxvaluedollarcnt</th>\n",
       "      <th>assessmentyear</th>\n",
       "      <th>landtaxvaluedollarcnt</th>\n",
       "      <th>taxamount</th>\n",
       "      <th>taxdelinquencyflag</th>\n",
       "      <th>taxdelinquencyyear</th>\n",
       "      <th>censustractandblock</th>\n",
       "    </tr>\n",
       "  </thead>\n",
       "  <tbody>\n",
       "    <tr>\n",
       "      <th>496</th>\n",
       "      <td>13850164</td>\n",
       "      <td>-0.1567</td>\n",
       "      <td>2016-01-05</td>\n",
       "      <td>13.0</td>\n",
       "      <td>NaN</td>\n",
       "      <td>NaN</td>\n",
       "      <td>2.0</td>\n",
       "      <td>3.0</td>\n",
       "      <td>NaN</td>\n",
       "      <td>NaN</td>\n",
       "      <td>...</td>\n",
       "      <td>1.0</td>\n",
       "      <td>NaN</td>\n",
       "      <td>76740.0</td>\n",
       "      <td>260828.0</td>\n",
       "      <td>2015.0</td>\n",
       "      <td>184088.0</td>\n",
       "      <td>3079.84</td>\n",
       "      <td>NaN</td>\n",
       "      <td>NaN</td>\n",
       "      <td>6.059001e+13</td>\n",
       "    </tr>\n",
       "    <tr>\n",
       "      <th>497</th>\n",
       "      <td>13850164</td>\n",
       "      <td>-0.0460</td>\n",
       "      <td>2016-06-29</td>\n",
       "      <td>13.0</td>\n",
       "      <td>NaN</td>\n",
       "      <td>NaN</td>\n",
       "      <td>2.0</td>\n",
       "      <td>3.0</td>\n",
       "      <td>NaN</td>\n",
       "      <td>NaN</td>\n",
       "      <td>...</td>\n",
       "      <td>1.0</td>\n",
       "      <td>NaN</td>\n",
       "      <td>76740.0</td>\n",
       "      <td>260828.0</td>\n",
       "      <td>2015.0</td>\n",
       "      <td>184088.0</td>\n",
       "      <td>3079.84</td>\n",
       "      <td>NaN</td>\n",
       "      <td>NaN</td>\n",
       "      <td>6.059001e+13</td>\n",
       "    </tr>\n",
       "    <tr>\n",
       "      <th>781</th>\n",
       "      <td>14677191</td>\n",
       "      <td>-0.3682</td>\n",
       "      <td>2016-01-06</td>\n",
       "      <td>1.0</td>\n",
       "      <td>NaN</td>\n",
       "      <td>NaN</td>\n",
       "      <td>2.0</td>\n",
       "      <td>2.0</td>\n",
       "      <td>NaN</td>\n",
       "      <td>NaN</td>\n",
       "      <td>...</td>\n",
       "      <td>1.0</td>\n",
       "      <td>NaN</td>\n",
       "      <td>95488.0</td>\n",
       "      <td>234504.0</td>\n",
       "      <td>2015.0</td>\n",
       "      <td>139016.0</td>\n",
       "      <td>2467.90</td>\n",
       "      <td>NaN</td>\n",
       "      <td>NaN</td>\n",
       "      <td>6.059063e+13</td>\n",
       "    </tr>\n",
       "    <tr>\n",
       "      <th>782</th>\n",
       "      <td>14677191</td>\n",
       "      <td>-0.0845</td>\n",
       "      <td>2016-09-12</td>\n",
       "      <td>1.0</td>\n",
       "      <td>NaN</td>\n",
       "      <td>NaN</td>\n",
       "      <td>2.0</td>\n",
       "      <td>2.0</td>\n",
       "      <td>NaN</td>\n",
       "      <td>NaN</td>\n",
       "      <td>...</td>\n",
       "      <td>1.0</td>\n",
       "      <td>NaN</td>\n",
       "      <td>95488.0</td>\n",
       "      <td>234504.0</td>\n",
       "      <td>2015.0</td>\n",
       "      <td>139016.0</td>\n",
       "      <td>2467.90</td>\n",
       "      <td>NaN</td>\n",
       "      <td>NaN</td>\n",
       "      <td>6.059063e+13</td>\n",
       "    </tr>\n",
       "    <tr>\n",
       "      <th>813</th>\n",
       "      <td>11005771</td>\n",
       "      <td>-0.0131</td>\n",
       "      <td>2016-01-06</td>\n",
       "      <td>NaN</td>\n",
       "      <td>NaN</td>\n",
       "      <td>NaN</td>\n",
       "      <td>2.0</td>\n",
       "      <td>5.0</td>\n",
       "      <td>NaN</td>\n",
       "      <td>4.0</td>\n",
       "      <td>...</td>\n",
       "      <td>NaN</td>\n",
       "      <td>NaN</td>\n",
       "      <td>56889.0</td>\n",
       "      <td>75221.0</td>\n",
       "      <td>2015.0</td>\n",
       "      <td>18332.0</td>\n",
       "      <td>1134.10</td>\n",
       "      <td>NaN</td>\n",
       "      <td>NaN</td>\n",
       "      <td>6.037101e+13</td>\n",
       "    </tr>\n",
       "    <tr>\n",
       "      <th>814</th>\n",
       "      <td>11005771</td>\n",
       "      <td>0.0545</td>\n",
       "      <td>2016-06-17</td>\n",
       "      <td>NaN</td>\n",
       "      <td>NaN</td>\n",
       "      <td>NaN</td>\n",
       "      <td>2.0</td>\n",
       "      <td>5.0</td>\n",
       "      <td>NaN</td>\n",
       "      <td>4.0</td>\n",
       "      <td>...</td>\n",
       "      <td>NaN</td>\n",
       "      <td>NaN</td>\n",
       "      <td>56889.0</td>\n",
       "      <td>75221.0</td>\n",
       "      <td>2015.0</td>\n",
       "      <td>18332.0</td>\n",
       "      <td>1134.10</td>\n",
       "      <td>NaN</td>\n",
       "      <td>NaN</td>\n",
       "      <td>6.037101e+13</td>\n",
       "    </tr>\n",
       "    <tr>\n",
       "      <th>967</th>\n",
       "      <td>11183209</td>\n",
       "      <td>-0.0481</td>\n",
       "      <td>2016-01-07</td>\n",
       "      <td>1.0</td>\n",
       "      <td>NaN</td>\n",
       "      <td>NaN</td>\n",
       "      <td>3.0</td>\n",
       "      <td>4.0</td>\n",
       "      <td>NaN</td>\n",
       "      <td>4.0</td>\n",
       "      <td>...</td>\n",
       "      <td>NaN</td>\n",
       "      <td>NaN</td>\n",
       "      <td>222215.0</td>\n",
       "      <td>275555.0</td>\n",
       "      <td>2015.0</td>\n",
       "      <td>53340.0</td>\n",
       "      <td>4375.10</td>\n",
       "      <td>NaN</td>\n",
       "      <td>NaN</td>\n",
       "      <td>6.037910e+13</td>\n",
       "    </tr>\n",
       "    <tr>\n",
       "      <th>968</th>\n",
       "      <td>11183209</td>\n",
       "      <td>-0.0070</td>\n",
       "      <td>2016-09-14</td>\n",
       "      <td>1.0</td>\n",
       "      <td>NaN</td>\n",
       "      <td>NaN</td>\n",
       "      <td>3.0</td>\n",
       "      <td>4.0</td>\n",
       "      <td>NaN</td>\n",
       "      <td>4.0</td>\n",
       "      <td>...</td>\n",
       "      <td>NaN</td>\n",
       "      <td>NaN</td>\n",
       "      <td>222215.0</td>\n",
       "      <td>275555.0</td>\n",
       "      <td>2015.0</td>\n",
       "      <td>53340.0</td>\n",
       "      <td>4375.10</td>\n",
       "      <td>NaN</td>\n",
       "      <td>NaN</td>\n",
       "      <td>6.037910e+13</td>\n",
       "    </tr>\n",
       "    <tr>\n",
       "      <th>1164</th>\n",
       "      <td>11554091</td>\n",
       "      <td>-0.1696</td>\n",
       "      <td>2016-01-07</td>\n",
       "      <td>NaN</td>\n",
       "      <td>NaN</td>\n",
       "      <td>NaN</td>\n",
       "      <td>2.0</td>\n",
       "      <td>3.0</td>\n",
       "      <td>NaN</td>\n",
       "      <td>4.0</td>\n",
       "      <td>...</td>\n",
       "      <td>NaN</td>\n",
       "      <td>NaN</td>\n",
       "      <td>208376.0</td>\n",
       "      <td>437155.0</td>\n",
       "      <td>2015.0</td>\n",
       "      <td>228779.0</td>\n",
       "      <td>5448.05</td>\n",
       "      <td>NaN</td>\n",
       "      <td>NaN</td>\n",
       "      <td>6.037272e+13</td>\n",
       "    </tr>\n",
       "    <tr>\n",
       "      <th>1165</th>\n",
       "      <td>11554091</td>\n",
       "      <td>-0.0954</td>\n",
       "      <td>2016-07-05</td>\n",
       "      <td>NaN</td>\n",
       "      <td>NaN</td>\n",
       "      <td>NaN</td>\n",
       "      <td>2.0</td>\n",
       "      <td>3.0</td>\n",
       "      <td>NaN</td>\n",
       "      <td>4.0</td>\n",
       "      <td>...</td>\n",
       "      <td>NaN</td>\n",
       "      <td>NaN</td>\n",
       "      <td>208376.0</td>\n",
       "      <td>437155.0</td>\n",
       "      <td>2015.0</td>\n",
       "      <td>228779.0</td>\n",
       "      <td>5448.05</td>\n",
       "      <td>NaN</td>\n",
       "      <td>NaN</td>\n",
       "      <td>6.037272e+13</td>\n",
       "    </tr>\n",
       "  </tbody>\n",
       "</table>\n",
       "<p>10 rows × 60 columns</p>\n",
       "</div>"
      ],
      "text/plain": [
       "      parcelid  logerror transactiondate  airconditioningtypeid  \\\n",
       "496   13850164   -0.1567      2016-01-05                   13.0   \n",
       "497   13850164   -0.0460      2016-06-29                   13.0   \n",
       "781   14677191   -0.3682      2016-01-06                    1.0   \n",
       "782   14677191   -0.0845      2016-09-12                    1.0   \n",
       "813   11005771   -0.0131      2016-01-06                    NaN   \n",
       "814   11005771    0.0545      2016-06-17                    NaN   \n",
       "967   11183209   -0.0481      2016-01-07                    1.0   \n",
       "968   11183209   -0.0070      2016-09-14                    1.0   \n",
       "1164  11554091   -0.1696      2016-01-07                    NaN   \n",
       "1165  11554091   -0.0954      2016-07-05                    NaN   \n",
       "\n",
       "      architecturalstyletypeid  basementsqft  bathroomcnt  bedroomcnt  \\\n",
       "496                        NaN           NaN          2.0         3.0   \n",
       "497                        NaN           NaN          2.0         3.0   \n",
       "781                        NaN           NaN          2.0         2.0   \n",
       "782                        NaN           NaN          2.0         2.0   \n",
       "813                        NaN           NaN          2.0         5.0   \n",
       "814                        NaN           NaN          2.0         5.0   \n",
       "967                        NaN           NaN          3.0         4.0   \n",
       "968                        NaN           NaN          3.0         4.0   \n",
       "1164                       NaN           NaN          2.0         3.0   \n",
       "1165                       NaN           NaN          2.0         3.0   \n",
       "\n",
       "      buildingclasstypeid  buildingqualitytypeid  ...  numberofstories  \\\n",
       "496                   NaN                    NaN  ...              1.0   \n",
       "497                   NaN                    NaN  ...              1.0   \n",
       "781                   NaN                    NaN  ...              1.0   \n",
       "782                   NaN                    NaN  ...              1.0   \n",
       "813                   NaN                    4.0  ...              NaN   \n",
       "814                   NaN                    4.0  ...              NaN   \n",
       "967                   NaN                    4.0  ...              NaN   \n",
       "968                   NaN                    4.0  ...              NaN   \n",
       "1164                  NaN                    4.0  ...              NaN   \n",
       "1165                  NaN                    4.0  ...              NaN   \n",
       "\n",
       "      fireplaceflag  structuretaxvaluedollarcnt  taxvaluedollarcnt  \\\n",
       "496             NaN                     76740.0           260828.0   \n",
       "497             NaN                     76740.0           260828.0   \n",
       "781             NaN                     95488.0           234504.0   \n",
       "782             NaN                     95488.0           234504.0   \n",
       "813             NaN                     56889.0            75221.0   \n",
       "814             NaN                     56889.0            75221.0   \n",
       "967             NaN                    222215.0           275555.0   \n",
       "968             NaN                    222215.0           275555.0   \n",
       "1164            NaN                    208376.0           437155.0   \n",
       "1165            NaN                    208376.0           437155.0   \n",
       "\n",
       "      assessmentyear  landtaxvaluedollarcnt  taxamount  taxdelinquencyflag  \\\n",
       "496           2015.0               184088.0    3079.84                 NaN   \n",
       "497           2015.0               184088.0    3079.84                 NaN   \n",
       "781           2015.0               139016.0    2467.90                 NaN   \n",
       "782           2015.0               139016.0    2467.90                 NaN   \n",
       "813           2015.0                18332.0    1134.10                 NaN   \n",
       "814           2015.0                18332.0    1134.10                 NaN   \n",
       "967           2015.0                53340.0    4375.10                 NaN   \n",
       "968           2015.0                53340.0    4375.10                 NaN   \n",
       "1164          2015.0               228779.0    5448.05                 NaN   \n",
       "1165          2015.0               228779.0    5448.05                 NaN   \n",
       "\n",
       "      taxdelinquencyyear  censustractandblock  \n",
       "496                  NaN         6.059001e+13  \n",
       "497                  NaN         6.059001e+13  \n",
       "781                  NaN         6.059063e+13  \n",
       "782                  NaN         6.059063e+13  \n",
       "813                  NaN         6.037101e+13  \n",
       "814                  NaN         6.037101e+13  \n",
       "967                  NaN         6.037910e+13  \n",
       "968                  NaN         6.037910e+13  \n",
       "1164                 NaN         6.037272e+13  \n",
       "1165                 NaN         6.037272e+13  \n",
       "\n",
       "[10 rows x 60 columns]"
      ]
     },
     "execution_count": 9,
     "metadata": {},
     "output_type": "execute_result"
    }
   ],
   "source": [
    "# lets look at some of the ones that have multiple records\n",
    "counts_per_parcel = df.groupby('parcelid').size()\n",
    "more_than_one_sale = df[df.parcelid.isin(counts_per_parcel[counts_per_parcel > 1].index)]\n",
    "only_one_sale = df[df.parcelid.isin(counts_per_parcel[counts_per_parcel == 1].index)]\n",
    "\n",
    "# there asre 249 of them\n",
    "print(more_than_one_sale.parcelid.nunique())\n",
    "\n",
    "# and lets take a look at them\n",
    "more_than_one_sale.head(10)"
   ]
  },
  {
   "cell_type": "markdown",
   "metadata": {},
   "source": [
    "It appears that some homes were sold twice during the period that the training data was captured. We have a few options here, and it's just as imporatant to discuss the tradeoffs between them as choosing the \"right\" one (and there usually is no \"right\" one).\n",
    "\n",
    "We know that we don't want the model to overweight properties that have more than one record because we want it to perform well on our holdout set. On the other hand, there is valuable information in knowing that the only difference between two records (besides our target variable) is the date field.\n",
    "\n",
    "So for constructing the dataset for training our model, we could:\n",
    "\n",
    "Use the most recent sales record\n",
    "Use the oldest sales record\n",
    "Use both sales records\n",
    "Use a random sales record\n",
    "Engineer a feature from the information contained, and then choose one of the above\n",
    "Note that only a hundred or so of the 90,000ish properties have multiple sales records, so it probably isn't a big deal whatever we choose, so lets go with a simple solution for now, which is taking a random sale record for each parcel with more than one sale record."
   ]
  },
  {
   "cell_type": "code",
   "execution_count": 10,
   "metadata": {},
   "outputs": [],
   "source": [
    "# first ensure we've accurately separated the records\n",
    "assert len(df) == (len(more_than_one_sale) + len(only_one_sale))\n",
    "\n",
    "# then remove the duplicate records by choosing a random sale from properties with more than one\n",
    "reduced_df = more_than_one_sale.sample(frac=1, random_state=0).groupby('parcelid').head(1)\n",
    "reduced_df = pd.concat([only_one_sale, reduced_df])"
   ]
  },
  {
   "cell_type": "code",
   "execution_count": 11,
   "metadata": {},
   "outputs": [],
   "source": [
    "# and check if the same parcel IDs exist in the original data as the reduced data\n",
    "assert set(reduced_df.parcelid) == set(df.parcelid)"
   ]
  },
  {
   "cell_type": "code",
   "execution_count": 12,
   "metadata": {},
   "outputs": [
    {
     "data": {
      "text/html": [
       "<div>\n",
       "<style scoped>\n",
       "    .dataframe tbody tr th:only-of-type {\n",
       "        vertical-align: middle;\n",
       "    }\n",
       "\n",
       "    .dataframe tbody tr th {\n",
       "        vertical-align: top;\n",
       "    }\n",
       "\n",
       "    .dataframe thead th {\n",
       "        text-align: right;\n",
       "    }\n",
       "</style>\n",
       "<table border=\"1\" class=\"dataframe\">\n",
       "  <thead>\n",
       "    <tr style=\"text-align: right;\">\n",
       "      <th></th>\n",
       "      <th>parcelid</th>\n",
       "      <th>logerror</th>\n",
       "      <th>transactiondate</th>\n",
       "      <th>airconditioningtypeid</th>\n",
       "      <th>architecturalstyletypeid</th>\n",
       "      <th>basementsqft</th>\n",
       "      <th>bathroomcnt</th>\n",
       "      <th>bedroomcnt</th>\n",
       "      <th>buildingclasstypeid</th>\n",
       "      <th>buildingqualitytypeid</th>\n",
       "      <th>...</th>\n",
       "      <th>numberofstories</th>\n",
       "      <th>fireplaceflag</th>\n",
       "      <th>structuretaxvaluedollarcnt</th>\n",
       "      <th>taxvaluedollarcnt</th>\n",
       "      <th>assessmentyear</th>\n",
       "      <th>landtaxvaluedollarcnt</th>\n",
       "      <th>taxamount</th>\n",
       "      <th>taxdelinquencyflag</th>\n",
       "      <th>taxdelinquencyyear</th>\n",
       "      <th>censustractandblock</th>\n",
       "    </tr>\n",
       "  </thead>\n",
       "  <tbody>\n",
       "    <tr>\n",
       "      <th>0</th>\n",
       "      <td>11016594</td>\n",
       "      <td>0.0276</td>\n",
       "      <td>2016-01-01</td>\n",
       "      <td>1.0</td>\n",
       "      <td>NaN</td>\n",
       "      <td>NaN</td>\n",
       "      <td>2.0</td>\n",
       "      <td>3.0</td>\n",
       "      <td>NaN</td>\n",
       "      <td>4.0</td>\n",
       "      <td>...</td>\n",
       "      <td>NaN</td>\n",
       "      <td>NaN</td>\n",
       "      <td>122754.0</td>\n",
       "      <td>360170.0</td>\n",
       "      <td>2015.0</td>\n",
       "      <td>237416.0</td>\n",
       "      <td>6735.88</td>\n",
       "      <td>NaN</td>\n",
       "      <td>NaN</td>\n",
       "      <td>6.037107e+13</td>\n",
       "    </tr>\n",
       "    <tr>\n",
       "      <th>1</th>\n",
       "      <td>14366692</td>\n",
       "      <td>-0.1684</td>\n",
       "      <td>2016-01-01</td>\n",
       "      <td>NaN</td>\n",
       "      <td>NaN</td>\n",
       "      <td>NaN</td>\n",
       "      <td>3.5</td>\n",
       "      <td>4.0</td>\n",
       "      <td>NaN</td>\n",
       "      <td>NaN</td>\n",
       "      <td>...</td>\n",
       "      <td>NaN</td>\n",
       "      <td>NaN</td>\n",
       "      <td>346458.0</td>\n",
       "      <td>585529.0</td>\n",
       "      <td>2015.0</td>\n",
       "      <td>239071.0</td>\n",
       "      <td>10153.02</td>\n",
       "      <td>NaN</td>\n",
       "      <td>NaN</td>\n",
       "      <td>NaN</td>\n",
       "    </tr>\n",
       "    <tr>\n",
       "      <th>2</th>\n",
       "      <td>12098116</td>\n",
       "      <td>-0.0040</td>\n",
       "      <td>2016-01-01</td>\n",
       "      <td>1.0</td>\n",
       "      <td>NaN</td>\n",
       "      <td>NaN</td>\n",
       "      <td>3.0</td>\n",
       "      <td>2.0</td>\n",
       "      <td>NaN</td>\n",
       "      <td>4.0</td>\n",
       "      <td>...</td>\n",
       "      <td>NaN</td>\n",
       "      <td>NaN</td>\n",
       "      <td>61994.0</td>\n",
       "      <td>119906.0</td>\n",
       "      <td>2015.0</td>\n",
       "      <td>57912.0</td>\n",
       "      <td>11484.48</td>\n",
       "      <td>NaN</td>\n",
       "      <td>NaN</td>\n",
       "      <td>6.037464e+13</td>\n",
       "    </tr>\n",
       "    <tr>\n",
       "      <th>3</th>\n",
       "      <td>12643413</td>\n",
       "      <td>0.0218</td>\n",
       "      <td>2016-01-02</td>\n",
       "      <td>1.0</td>\n",
       "      <td>NaN</td>\n",
       "      <td>NaN</td>\n",
       "      <td>2.0</td>\n",
       "      <td>2.0</td>\n",
       "      <td>NaN</td>\n",
       "      <td>4.0</td>\n",
       "      <td>...</td>\n",
       "      <td>NaN</td>\n",
       "      <td>NaN</td>\n",
       "      <td>171518.0</td>\n",
       "      <td>244880.0</td>\n",
       "      <td>2015.0</td>\n",
       "      <td>73362.0</td>\n",
       "      <td>3048.74</td>\n",
       "      <td>NaN</td>\n",
       "      <td>NaN</td>\n",
       "      <td>6.037296e+13</td>\n",
       "    </tr>\n",
       "    <tr>\n",
       "      <th>4</th>\n",
       "      <td>14432541</td>\n",
       "      <td>-0.0050</td>\n",
       "      <td>2016-01-02</td>\n",
       "      <td>NaN</td>\n",
       "      <td>NaN</td>\n",
       "      <td>NaN</td>\n",
       "      <td>2.5</td>\n",
       "      <td>4.0</td>\n",
       "      <td>NaN</td>\n",
       "      <td>NaN</td>\n",
       "      <td>...</td>\n",
       "      <td>2.0</td>\n",
       "      <td>NaN</td>\n",
       "      <td>169574.0</td>\n",
       "      <td>434551.0</td>\n",
       "      <td>2015.0</td>\n",
       "      <td>264977.0</td>\n",
       "      <td>5488.96</td>\n",
       "      <td>NaN</td>\n",
       "      <td>NaN</td>\n",
       "      <td>6.059042e+13</td>\n",
       "    </tr>\n",
       "  </tbody>\n",
       "</table>\n",
       "<p>5 rows × 60 columns</p>\n",
       "</div>"
      ],
      "text/plain": [
       "   parcelid  logerror transactiondate  airconditioningtypeid  \\\n",
       "0  11016594    0.0276      2016-01-01                    1.0   \n",
       "1  14366692   -0.1684      2016-01-01                    NaN   \n",
       "2  12098116   -0.0040      2016-01-01                    1.0   \n",
       "3  12643413    0.0218      2016-01-02                    1.0   \n",
       "4  14432541   -0.0050      2016-01-02                    NaN   \n",
       "\n",
       "   architecturalstyletypeid  basementsqft  bathroomcnt  bedroomcnt  \\\n",
       "0                       NaN           NaN          2.0         3.0   \n",
       "1                       NaN           NaN          3.5         4.0   \n",
       "2                       NaN           NaN          3.0         2.0   \n",
       "3                       NaN           NaN          2.0         2.0   \n",
       "4                       NaN           NaN          2.5         4.0   \n",
       "\n",
       "   buildingclasstypeid  buildingqualitytypeid  ...  numberofstories  \\\n",
       "0                  NaN                    4.0  ...              NaN   \n",
       "1                  NaN                    NaN  ...              NaN   \n",
       "2                  NaN                    4.0  ...              NaN   \n",
       "3                  NaN                    4.0  ...              NaN   \n",
       "4                  NaN                    NaN  ...              2.0   \n",
       "\n",
       "   fireplaceflag  structuretaxvaluedollarcnt  taxvaluedollarcnt  \\\n",
       "0            NaN                    122754.0           360170.0   \n",
       "1            NaN                    346458.0           585529.0   \n",
       "2            NaN                     61994.0           119906.0   \n",
       "3            NaN                    171518.0           244880.0   \n",
       "4            NaN                    169574.0           434551.0   \n",
       "\n",
       "   assessmentyear  landtaxvaluedollarcnt  taxamount  taxdelinquencyflag  \\\n",
       "0          2015.0               237416.0    6735.88                 NaN   \n",
       "1          2015.0               239071.0   10153.02                 NaN   \n",
       "2          2015.0                57912.0   11484.48                 NaN   \n",
       "3          2015.0                73362.0    3048.74                 NaN   \n",
       "4          2015.0               264977.0    5488.96                 NaN   \n",
       "\n",
       "   taxdelinquencyyear  censustractandblock  \n",
       "0                 NaN         6.037107e+13  \n",
       "1                 NaN                  NaN  \n",
       "2                 NaN         6.037464e+13  \n",
       "3                 NaN         6.037296e+13  \n",
       "4                 NaN         6.059042e+13  \n",
       "\n",
       "[5 rows x 60 columns]"
      ]
     },
     "execution_count": 12,
     "metadata": {},
     "output_type": "execute_result"
    }
   ],
   "source": [
    "reduced_df.head()"
   ]
  },
  {
   "cell_type": "markdown",
   "metadata": {},
   "source": [
    "Now lets take the logic we defined above and package it into a function called filter_duplicate_parcels:"
   ]
  },
  {
   "cell_type": "code",
   "execution_count": 13,
   "metadata": {},
   "outputs": [
    {
     "name": "stdout",
     "output_type": "stream",
     "text": [
      "def filter_duplicate_parcels(df, random_state=0):\n",
      "    \"\"\"filter the merged train and properties datasets to only include one record per parcel.\n",
      "    \n",
      "    Intended only for use on the training data for building the model\n",
      "    Keyword arguments:\n",
      "    df -- the result of `merge_dataset`\n",
      "    random_state -- the random seed to be passed to the `pandas.DataFrame.sample()` method\n",
      "    \n",
      "    Returns:\n",
      "    a pandas dataframe\n",
      "    \"\"\"\n",
      " \n",
      "    counts_per_parcel = df.groupby('parcelid').size()\n",
      "    more_than_one_sale = df[df.parcelid.isin(counts_per_parcel[counts_per_parcel > 1].index)]\n",
      "    only_one_sale = df[df.parcelid.isin(counts_per_parcel[counts_per_parcel == 1].index)]\n",
      "    reduced_df = more_than_one_sale.sample(frac=1, random_state=random_state).groupby('parcelid').head(1)\n",
      "    reduced_df = pd.concat([only_one_sale, reduced_df])\n",
      "    \n",
      "    return reduced_df\n",
      "\n"
     ]
    }
   ],
   "source": [
    "import sys\n",
    "sys.path.insert(0, './scripts')\n",
    "# now read in the function\n",
    "from helpers import filter_duplicate_parcels\n",
    "import inspect\n",
    "print(inspect.getsource(filter_duplicate_parcels))"
   ]
  },
  {
   "cell_type": "markdown",
   "metadata": {},
   "source": [
    "# Explore Null Values"
   ]
  },
  {
   "cell_type": "markdown",
   "metadata": {},
   "source": [
    "Null values can be a blessing and a curse. They are difficult to deal with at times, but they also can contain valuable information. Some data scientists make the mistake of throwing out any columns with Null values because Machine Learning algorithms will complain about them. A better approach would be to encode them in a way that your algorithm can understand. This can be tough with linear methods, but much easier with nonlinear methods like trees or neural nets."
   ]
  },
  {
   "cell_type": "code",
   "execution_count": 14,
   "metadata": {},
   "outputs": [
    {
     "data": {
      "text/plain": [
       "buildingclasstypeid         90134\n",
       "finishedsquarefeet13        90117\n",
       "basementsqft                90107\n",
       "storytypeid                 90107\n",
       "yardbuildingsqft26          90055\n",
       "fireplaceflag               89930\n",
       "architecturalstyletypeid    89890\n",
       "typeconstructiontypeid      89852\n",
       "finishedsquarefeet6         89731\n",
       "decktypeid                  89492\n",
       "poolsizesum                 89184\n",
       "pooltypeid10                88991\n",
       "pooltypeid2                 88946\n",
       "taxdelinquencyyear          88375\n",
       "taxdelinquencyflag          88375\n",
       "hashottuborspa              87787\n",
       "yardbuildingsqft17          87505\n",
       "finishedsquarefeet15        86595\n",
       "finishedsquarefeet50        83300\n",
       "finishedfloor1squarefeet    83300\n",
       "dtype: int64"
      ]
     },
     "execution_count": 14,
     "metadata": {},
     "output_type": "execute_result"
    }
   ],
   "source": [
    "reduced_df.isnull().sum().sort_values(ascending=False).head(20)"
   ]
  },
  {
   "cell_type": "code",
   "execution_count": 15,
   "metadata": {},
   "outputs": [
    {
     "data": {
      "text/plain": [
       "parcelid                        0\n",
       "longitude                       0\n",
       "propertylandusetypeid           0\n",
       "rawcensustractandblock          0\n",
       "regionidcounty                  0\n",
       "roomcnt                         0\n",
       "latitude                        0\n",
       "fips                            0\n",
       "bathroomcnt                     0\n",
       "assessmentyear                  0\n",
       "transactiondate                 0\n",
       "logerror                        0\n",
       "bedroomcnt                      0\n",
       "taxvaluedollarcnt               1\n",
       "landtaxvaluedollarcnt           1\n",
       "propertycountylandusecode       1\n",
       "taxamount                       6\n",
       "regionidzip                    35\n",
       "structuretaxvaluedollarcnt    378\n",
       "censustractandblock           603\n",
       "dtype: int64"
      ]
     },
     "execution_count": 15,
     "metadata": {},
     "output_type": "execute_result"
    }
   ],
   "source": [
    "reduced_df.isnull().sum().sort_values(ascending=True).head(20)"
   ]
  },
  {
   "cell_type": "markdown",
   "metadata": {},
   "source": [
    "# Explore Unique Values"
   ]
  },
  {
   "cell_type": "markdown",
   "metadata": {},
   "source": [
    "Here we're looking for a couple things:\n",
    "\n",
    "Are any of the features all the same value? This wouldn't be very useful in a model, so throw them out.\n",
    "Are any of the features discrete with high cardinality? These wouldn't hold very much information because there would only be a handful of records for each \"level\" of the categorical feature"
   ]
  },
  {
   "cell_type": "code",
   "execution_count": 16,
   "metadata": {},
   "outputs": [
    {
     "data": {
      "text/plain": [
       "parcelid                        90150\n",
       "taxamount                       85110\n",
       "latitude                        73312\n",
       "longitude                       71900\n",
       "landtaxvaluedollarcnt           57066\n",
       "taxvaluedollarcnt               55938\n",
       "structuretaxvaluedollarcnt      55450\n",
       "rawcensustractandblock          42643\n",
       "censustractandblock             42398\n",
       "lotsizesquarefeet               20016\n",
       "calculatedfinishedsquarefeet     5102\n",
       "finishedsquarefeet12             4982\n",
       "propertyzoningdesc               1996\n",
       "finishedsquarefeet15             1915\n",
       "finishedsquarefeet50             1898\n",
       "logerror                         1893\n",
       "finishedfloor1squarefeet         1886\n",
       "garagetotalsqft                   870\n",
       "yardbuildingsqft17                567\n",
       "regionidneighborhood              494\n",
       "regionidzip                       388\n",
       "finishedsquarefeet6               360\n",
       "transactiondate                   352\n",
       "poolsizesum                       273\n",
       "regionidcity                      177\n",
       "yearbuilt                         130\n",
       "propertycountylandusecode          77\n",
       "yardbuildingsqft26                 73\n",
       "basementsqft                       39\n",
       "bathroomcnt                        23\n",
       "dtype: int64"
      ]
     },
     "execution_count": 16,
     "metadata": {},
     "output_type": "execute_result"
    }
   ],
   "source": [
    "reduced_df.nunique().sort_values(ascending=False).head(30)"
   ]
  },
  {
   "cell_type": "markdown",
   "metadata": {},
   "source": [
    "Variables with High Cardinality to watch out for:\n",
    "\n",
    "rawcensustractandblock\n",
    "censustractandblock\n",
    "propertyzoningdesc\n",
    "regionidneighborhood\n",
    "regionidzip"
   ]
  },
  {
   "cell_type": "code",
   "execution_count": 17,
   "metadata": {},
   "outputs": [
    {
     "data": {
      "text/plain": [
       "assessmentyear              1\n",
       "poolcnt                     2\n",
       "storytypeid                 2\n",
       "fireplaceflag               2\n",
       "pooltypeid7                 2\n",
       "pooltypeid2                 2\n",
       "buildingclasstypeid         2\n",
       "pooltypeid10                2\n",
       "decktypeid                  2\n",
       "taxdelinquencyflag          2\n",
       "hashottuborspa              2\n",
       "regionidcounty              3\n",
       "fips                        3\n",
       "typeconstructiontypeid      4\n",
       "threequarterbathnbr         5\n",
       "numberofstories             5\n",
       "fireplacecnt                6\n",
       "airconditioningtypeid       7\n",
       "architecturalstyletypeid    7\n",
       "buildingqualitytypeid       9\n",
       "dtype: int64"
      ]
     },
     "execution_count": 17,
     "metadata": {},
     "output_type": "execute_result"
    }
   ],
   "source": [
    "reduced_df.nunique(dropna=False).sort_values(ascending=True).head(20)"
   ]
  },
  {
   "cell_type": "markdown",
   "metadata": {},
   "source": [
    "Notice that assessmentyear has only one unique value."
   ]
  },
  {
   "cell_type": "markdown",
   "metadata": {},
   "source": [
    "# Inspect the Target Variable"
   ]
  },
  {
   "cell_type": "code",
   "execution_count": 18,
   "metadata": {},
   "outputs": [
    {
     "data": {
      "text/plain": [
       "<matplotlib.axes._subplots.AxesSubplot at 0x113568160>"
      ]
     },
     "execution_count": 18,
     "metadata": {},
     "output_type": "execute_result"
    },
    {
     "data": {
      "image/png": "[encoded data removed]",
      "text/plain": [
       "<Figure size 432x288 with 1 Axes>"
      ]
     },
     "metadata": {
      "needs_background": "light"
     },
     "output_type": "display_data"
    }
   ],
   "source": [
    "reduced_df.logerror.hist()"
   ]
  },
  {
   "cell_type": "markdown",
   "metadata": {},
   "source": [
    "So the Target looks a bit like a Laplace Distribution. We should keep that in mind as we choose ML Algorithms and corresponding loss functions. If we plot the density on a log-scale, the target looks closer to a Normal Distribution."
   ]
  },
  {
   "cell_type": "code",
   "execution_count": 19,
   "metadata": {},
   "outputs": [
    {
     "data": {
      "image/png": "[encoded data removed]",
      "text/plain": [
       "<Figure size 432x288 with 1 Axes>"
      ]
     },
     "metadata": {
      "needs_background": "light"
     },
     "output_type": "display_data"
    }
   ],
   "source": [
    "fig, ax = plt.subplots()\n",
    "reduced_df.logerror.hist(ax=ax)\n",
    "ax.set_yscale('log')"
   ]
  }
 ],
 "metadata": {
  "kernelspec": {
   "display_name": "Python 3",
   "language": "python",
   "name": "python3"
  },
  "language_info": {
   "codemirror_mode": {
    "name": "ipython",
    "version": 3
   },
   "file_extension": ".py",
   "mimetype": "text/x-python",
   "name": "python",
   "nbconvert_exporter": "python",
   "pygments_lexer": "ipython3",
   "version": "3.7.2"
  }
 },
 "nbformat": 4,
 "nbformat_minor": 2
}
